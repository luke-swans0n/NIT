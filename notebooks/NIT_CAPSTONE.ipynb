{
 "cells": [
  {
   "cell_type": "markdown",
   "metadata": {},
   "source": [
    "# CAPSTONE TWO: NEGATIVE INCOME TAX EXPERIMENTS"
   ]
  },
  {
   "cell_type": "markdown",
   "metadata": {},
   "source": [
    "## IMPORTS"
   ]
  },
  {
   "cell_type": "code",
   "execution_count": 1,
   "metadata": {},
   "outputs": [],
   "source": [
    "import pandas as pd\n",
    "import numpy as np\n",
    "from matplotlib import pyplot as plt"
   ]
  },
  {
   "cell_type": "code",
   "execution_count": 2,
   "metadata": {},
   "outputs": [],
   "source": [
    "gary_df = pd.read_csv('../data/raw/raw_gary_df.csv')"
   ]
  },
  {
   "cell_type": "code",
   "execution_count": 3,
   "metadata": {},
   "outputs": [
    {
     "data": {
      "text/html": [
       "<div>\n",
       "<style scoped>\n",
       "    .dataframe tbody tr th:only-of-type {\n",
       "        vertical-align: middle;\n",
       "    }\n",
       "\n",
       "    .dataframe tbody tr th {\n",
       "        vertical-align: top;\n",
       "    }\n",
       "\n",
       "    .dataframe thead th {\n",
       "        text-align: right;\n",
       "    }\n",
       "</style>\n",
       "<table border=\"1\" class=\"dataframe\">\n",
       "  <thead>\n",
       "    <tr style=\"text-align: right;\">\n",
       "      <th></th>\n",
       "      <th>Unnamed: 0</th>\n",
       "      <th>FAMNUM</th>\n",
       "      <th>PERNUM</th>\n",
       "      <th>STATUS1-48</th>\n",
       "      <th>MOPRES1-48</th>\n",
       "      <th>MRST1-48</th>\n",
       "      <th>RELCODE1-48</th>\n",
       "      <th>DOB</th>\n",
       "      <th>SEX</th>\n",
       "      <th>ENRLDATE</th>\n",
       "      <th>...</th>\n",
       "      <th>AFDC1970</th>\n",
       "      <th>AFDCM070</th>\n",
       "      <th>AFDCBASE</th>\n",
       "      <th>AFDC1-48</th>\n",
       "      <th>AFDCEL1-48</th>\n",
       "      <th>SSI1970</th>\n",
       "      <th>SSIMOS70</th>\n",
       "      <th>SSIBASE</th>\n",
       "      <th>POVLEV</th>\n",
       "      <th>TREATLEV</th>\n",
       "    </tr>\n",
       "  </thead>\n",
       "  <tbody>\n",
       "    <tr>\n",
       "      <th>0</th>\n",
       "      <td>0</td>\n",
       "      <td>4000</td>\n",
       "      <td>400001</td>\n",
       "      <td>0000000000000000000000000000000000000000000000...</td>\n",
       "      <td>999999999999999999999999999222222222222222222222</td>\n",
       "      <td>9797979797979797979797979797979797979797979797...</td>\n",
       "      <td>9797979797979797979797979797979797979797979797...</td>\n",
       "      <td>5307</td>\n",
       "      <td>2</td>\n",
       "      <td>73092</td>\n",
       "      <td>...</td>\n",
       "      <td>9993</td>\n",
       "      <td>93</td>\n",
       "      <td>9993</td>\n",
       "      <td>0000000000000000000000000000000000000000000000...</td>\n",
       "      <td>0000000000000000000000000000000000000000000000...</td>\n",
       "      <td>9993</td>\n",
       "      <td>93</td>\n",
       "      <td>9993</td>\n",
       "      <td>NaN</td>\n",
       "      <td>NaN</td>\n",
       "    </tr>\n",
       "    <tr>\n",
       "      <th>1</th>\n",
       "      <td>1</td>\n",
       "      <td>4000</td>\n",
       "      <td>400004</td>\n",
       "      <td>0000000000000000000000000000000000000000000000...</td>\n",
       "      <td>999999999999999999999999999000000000000000000222</td>\n",
       "      <td>9797979797979797979797979797979797979797979797...</td>\n",
       "      <td>9797979797979797979797979797979797979797979797...</td>\n",
       "      <td>9994</td>\n",
       "      <td>1</td>\n",
       "      <td>73092</td>\n",
       "      <td>...</td>\n",
       "      <td>9993</td>\n",
       "      <td>93</td>\n",
       "      <td>9993</td>\n",
       "      <td>9993999399939993999399939993999399939993999399...</td>\n",
       "      <td>9993999399939993999399939993999399939993999399...</td>\n",
       "      <td>9993</td>\n",
       "      <td>93</td>\n",
       "      <td>9993</td>\n",
       "      <td>NaN</td>\n",
       "      <td>NaN</td>\n",
       "    </tr>\n",
       "    <tr>\n",
       "      <th>2</th>\n",
       "      <td>2</td>\n",
       "      <td>4002</td>\n",
       "      <td>400201</td>\n",
       "      <td>0000000000000000000000000000000000000000000000...</td>\n",
       "      <td>999999999999999999999999999922222222222222222222</td>\n",
       "      <td>9797979797979797979797979797979797979797979797...</td>\n",
       "      <td>9797979797979797979797979797979797979797979797...</td>\n",
       "      <td>5407</td>\n",
       "      <td>2</td>\n",
       "      <td>73131</td>\n",
       "      <td>...</td>\n",
       "      <td>9993</td>\n",
       "      <td>93</td>\n",
       "      <td>9993</td>\n",
       "      <td>0000000000000000000000000000000000000000000000...</td>\n",
       "      <td>0000000000000000000000000000000000000000000000...</td>\n",
       "      <td>9993</td>\n",
       "      <td>93</td>\n",
       "      <td>9993</td>\n",
       "      <td>NaN</td>\n",
       "      <td>NaN</td>\n",
       "    </tr>\n",
       "    <tr>\n",
       "      <th>3</th>\n",
       "      <td>3</td>\n",
       "      <td>4003</td>\n",
       "      <td>400301</td>\n",
       "      <td>0000000000000000000000000000000000000000000000...</td>\n",
       "      <td>999999999999999999999999999992222222222222222222</td>\n",
       "      <td>9797979797979797979797979797979797979797979797...</td>\n",
       "      <td>9797979797979797979797979797979797979797979797...</td>\n",
       "      <td>5305</td>\n",
       "      <td>2</td>\n",
       "      <td>73173</td>\n",
       "      <td>...</td>\n",
       "      <td>9993</td>\n",
       "      <td>93</td>\n",
       "      <td>9993</td>\n",
       "      <td>0000000000000000000000000000000000000000000000...</td>\n",
       "      <td>0000000000000000000000000000000000000000000000...</td>\n",
       "      <td>9993</td>\n",
       "      <td>93</td>\n",
       "      <td>9993</td>\n",
       "      <td>NaN</td>\n",
       "      <td>NaN</td>\n",
       "    </tr>\n",
       "    <tr>\n",
       "      <th>4</th>\n",
       "      <td>4</td>\n",
       "      <td>4004</td>\n",
       "      <td>400401</td>\n",
       "      <td>0000000000000000000000000000000000000000000000...</td>\n",
       "      <td>999999999999999999999999999992222222222222222222</td>\n",
       "      <td>9797979797979797979797979797979797979797979797...</td>\n",
       "      <td>9797979797979797979797979797979797979797979797...</td>\n",
       "      <td>4709</td>\n",
       "      <td>2</td>\n",
       "      <td>73178</td>\n",
       "      <td>...</td>\n",
       "      <td>9993</td>\n",
       "      <td>93</td>\n",
       "      <td>9993</td>\n",
       "      <td>0000000000000000000000000000000000000000000000...</td>\n",
       "      <td>0000000000000000000000000000000000000000000000...</td>\n",
       "      <td>9993</td>\n",
       "      <td>93</td>\n",
       "      <td>9993</td>\n",
       "      <td>NaN</td>\n",
       "      <td>NaN</td>\n",
       "    </tr>\n",
       "    <tr>\n",
       "      <th>...</th>\n",
       "      <td>...</td>\n",
       "      <td>...</td>\n",
       "      <td>...</td>\n",
       "      <td>...</td>\n",
       "      <td>...</td>\n",
       "      <td>...</td>\n",
       "      <td>...</td>\n",
       "      <td>...</td>\n",
       "      <td>...</td>\n",
       "      <td>...</td>\n",
       "      <td>...</td>\n",
       "      <td>...</td>\n",
       "      <td>...</td>\n",
       "      <td>...</td>\n",
       "      <td>...</td>\n",
       "      <td>...</td>\n",
       "      <td>...</td>\n",
       "      <td>...</td>\n",
       "      <td>...</td>\n",
       "      <td>...</td>\n",
       "      <td>...</td>\n",
       "    </tr>\n",
       "    <tr>\n",
       "      <th>5338</th>\n",
       "      <td>5338</td>\n",
       "      <td>9691</td>\n",
       "      <td>969103</td>\n",
       "      <td>0000000000020404040404040404040404040404040404...</td>\n",
       "      <td>999992222222222222222222222222222222222229999999</td>\n",
       "      <td>9797979797949494949494949494949494949494949494...</td>\n",
       "      <td>9797979797040404040404040404040404040404040404...</td>\n",
       "      <td>5402</td>\n",
       "      <td>2</td>\n",
       "      <td>71172</td>\n",
       "      <td>...</td>\n",
       "      <td>9993</td>\n",
       "      <td>93</td>\n",
       "      <td>9993</td>\n",
       "      <td>0000000000000000000000000000000000000000000000...</td>\n",
       "      <td>0000000000000000000000000000000000000000000000...</td>\n",
       "      <td>9993</td>\n",
       "      <td>93</td>\n",
       "      <td>9993</td>\n",
       "      <td>4.0</td>\n",
       "      <td>0.0</td>\n",
       "    </tr>\n",
       "    <tr>\n",
       "      <th>5339</th>\n",
       "      <td>5339</td>\n",
       "      <td>9691</td>\n",
       "      <td>969104</td>\n",
       "      <td>0000000000020404040404040404040404040404040404...</td>\n",
       "      <td>999992222222222222222222222222222222222229999999</td>\n",
       "      <td>9797979797949494949494949494949494949494949494...</td>\n",
       "      <td>9797979797040404040404040404040404040404040404...</td>\n",
       "      <td>5601</td>\n",
       "      <td>2</td>\n",
       "      <td>71172</td>\n",
       "      <td>...</td>\n",
       "      <td>9993</td>\n",
       "      <td>93</td>\n",
       "      <td>9993</td>\n",
       "      <td>9994999499949994999499949994999499949994999499...</td>\n",
       "      <td>9994999499949994999499949994999499949994999499...</td>\n",
       "      <td>9993</td>\n",
       "      <td>93</td>\n",
       "      <td>9993</td>\n",
       "      <td>4.0</td>\n",
       "      <td>0.0</td>\n",
       "    </tr>\n",
       "    <tr>\n",
       "      <th>5340</th>\n",
       "      <td>5340</td>\n",
       "      <td>9691</td>\n",
       "      <td>969105</td>\n",
       "      <td>0000000000020404040404040404040404040404040404...</td>\n",
       "      <td>999992222222222222222222222222222222222229999999</td>\n",
       "      <td>9797979797949494949494949494949494949494949494...</td>\n",
       "      <td>9797979797040404040404040404040404040404040404...</td>\n",
       "      <td>5707</td>\n",
       "      <td>2</td>\n",
       "      <td>71172</td>\n",
       "      <td>...</td>\n",
       "      <td>9993</td>\n",
       "      <td>93</td>\n",
       "      <td>9993</td>\n",
       "      <td>0000000000000000000000000000000000000000000000...</td>\n",
       "      <td>0000000000000000000000000000000000000000000000...</td>\n",
       "      <td>9993</td>\n",
       "      <td>93</td>\n",
       "      <td>9993</td>\n",
       "      <td>4.0</td>\n",
       "      <td>0.0</td>\n",
       "    </tr>\n",
       "    <tr>\n",
       "      <th>5341</th>\n",
       "      <td>5341</td>\n",
       "      <td>9691</td>\n",
       "      <td>969106</td>\n",
       "      <td>0000000000020404040404040404040404040404040404...</td>\n",
       "      <td>999992222222222222222222222222222222222229999999</td>\n",
       "      <td>9797979797949494949494949494949494949494949494...</td>\n",
       "      <td>9797979797040404040404040404040404040404040404...</td>\n",
       "      <td>5707</td>\n",
       "      <td>2</td>\n",
       "      <td>71172</td>\n",
       "      <td>...</td>\n",
       "      <td>9993</td>\n",
       "      <td>93</td>\n",
       "      <td>9993</td>\n",
       "      <td>0000000000000000000000000000000000000000000000...</td>\n",
       "      <td>0000000000000000000000000000000000000000000000...</td>\n",
       "      <td>9993</td>\n",
       "      <td>93</td>\n",
       "      <td>9993</td>\n",
       "      <td>4.0</td>\n",
       "      <td>0.0</td>\n",
       "    </tr>\n",
       "    <tr>\n",
       "      <th>5342</th>\n",
       "      <td>5342</td>\n",
       "      <td>9692</td>\n",
       "      <td>969201</td>\n",
       "      <td>0000000000020404040404040404040404040404040404...</td>\n",
       "      <td>999992222222222222222222222222222222222229999999</td>\n",
       "      <td>9797979797949494949494949494949494949494949494...</td>\n",
       "      <td>9797979797010101010101010101010101010101010101...</td>\n",
       "      <td>2508</td>\n",
       "      <td>2</td>\n",
       "      <td>71179</td>\n",
       "      <td>...</td>\n",
       "      <td>1482</td>\n",
       "      <td>12</td>\n",
       "      <td>125</td>\n",
       "      <td>9994012501250125016501450145000000000000000000...</td>\n",
       "      <td>9994012501250125016501450145014501450145014501...</td>\n",
       "      <td>9993</td>\n",
       "      <td>93</td>\n",
       "      <td>9993</td>\n",
       "      <td>2.0</td>\n",
       "      <td>3.0</td>\n",
       "    </tr>\n",
       "  </tbody>\n",
       "</table>\n",
       "<p>5343 rows × 118 columns</p>\n",
       "</div>"
      ],
      "text/plain": [
       "      Unnamed: 0  FAMNUM  PERNUM  \\\n",
       "0              0    4000  400001   \n",
       "1              1    4000  400004   \n",
       "2              2    4002  400201   \n",
       "3              3    4003  400301   \n",
       "4              4    4004  400401   \n",
       "...          ...     ...     ...   \n",
       "5338        5338    9691  969103   \n",
       "5339        5339    9691  969104   \n",
       "5340        5340    9691  969105   \n",
       "5341        5341    9691  969106   \n",
       "5342        5342    9692  969201   \n",
       "\n",
       "                                             STATUS1-48  \\\n",
       "0     0000000000000000000000000000000000000000000000...   \n",
       "1     0000000000000000000000000000000000000000000000...   \n",
       "2     0000000000000000000000000000000000000000000000...   \n",
       "3     0000000000000000000000000000000000000000000000...   \n",
       "4     0000000000000000000000000000000000000000000000...   \n",
       "...                                                 ...   \n",
       "5338  0000000000020404040404040404040404040404040404...   \n",
       "5339  0000000000020404040404040404040404040404040404...   \n",
       "5340  0000000000020404040404040404040404040404040404...   \n",
       "5341  0000000000020404040404040404040404040404040404...   \n",
       "5342  0000000000020404040404040404040404040404040404...   \n",
       "\n",
       "                                            MOPRES1-48  \\\n",
       "0     999999999999999999999999999222222222222222222222   \n",
       "1     999999999999999999999999999000000000000000000222   \n",
       "2     999999999999999999999999999922222222222222222222   \n",
       "3     999999999999999999999999999992222222222222222222   \n",
       "4     999999999999999999999999999992222222222222222222   \n",
       "...                                                ...   \n",
       "5338  999992222222222222222222222222222222222229999999   \n",
       "5339  999992222222222222222222222222222222222229999999   \n",
       "5340  999992222222222222222222222222222222222229999999   \n",
       "5341  999992222222222222222222222222222222222229999999   \n",
       "5342  999992222222222222222222222222222222222229999999   \n",
       "\n",
       "                                               MRST1-48  \\\n",
       "0     9797979797979797979797979797979797979797979797...   \n",
       "1     9797979797979797979797979797979797979797979797...   \n",
       "2     9797979797979797979797979797979797979797979797...   \n",
       "3     9797979797979797979797979797979797979797979797...   \n",
       "4     9797979797979797979797979797979797979797979797...   \n",
       "...                                                 ...   \n",
       "5338  9797979797949494949494949494949494949494949494...   \n",
       "5339  9797979797949494949494949494949494949494949494...   \n",
       "5340  9797979797949494949494949494949494949494949494...   \n",
       "5341  9797979797949494949494949494949494949494949494...   \n",
       "5342  9797979797949494949494949494949494949494949494...   \n",
       "\n",
       "                                            RELCODE1-48   DOB  SEX  ENRLDATE  \\\n",
       "0     9797979797979797979797979797979797979797979797...  5307    2     73092   \n",
       "1     9797979797979797979797979797979797979797979797...  9994    1     73092   \n",
       "2     9797979797979797979797979797979797979797979797...  5407    2     73131   \n",
       "3     9797979797979797979797979797979797979797979797...  5305    2     73173   \n",
       "4     9797979797979797979797979797979797979797979797...  4709    2     73178   \n",
       "...                                                 ...   ...  ...       ...   \n",
       "5338  9797979797040404040404040404040404040404040404...  5402    2     71172   \n",
       "5339  9797979797040404040404040404040404040404040404...  5601    2     71172   \n",
       "5340  9797979797040404040404040404040404040404040404...  5707    2     71172   \n",
       "5341  9797979797040404040404040404040404040404040404...  5707    2     71172   \n",
       "5342  9797979797010101010101010101010101010101010101...  2508    2     71179   \n",
       "\n",
       "      ...  AFDC1970  AFDCM070  AFDCBASE  \\\n",
       "0     ...      9993        93      9993   \n",
       "1     ...      9993        93      9993   \n",
       "2     ...      9993        93      9993   \n",
       "3     ...      9993        93      9993   \n",
       "4     ...      9993        93      9993   \n",
       "...   ...       ...       ...       ...   \n",
       "5338  ...      9993        93      9993   \n",
       "5339  ...      9993        93      9993   \n",
       "5340  ...      9993        93      9993   \n",
       "5341  ...      9993        93      9993   \n",
       "5342  ...      1482        12       125   \n",
       "\n",
       "                                               AFDC1-48  \\\n",
       "0     0000000000000000000000000000000000000000000000...   \n",
       "1     9993999399939993999399939993999399939993999399...   \n",
       "2     0000000000000000000000000000000000000000000000...   \n",
       "3     0000000000000000000000000000000000000000000000...   \n",
       "4     0000000000000000000000000000000000000000000000...   \n",
       "...                                                 ...   \n",
       "5338  0000000000000000000000000000000000000000000000...   \n",
       "5339  9994999499949994999499949994999499949994999499...   \n",
       "5340  0000000000000000000000000000000000000000000000...   \n",
       "5341  0000000000000000000000000000000000000000000000...   \n",
       "5342  9994012501250125016501450145000000000000000000...   \n",
       "\n",
       "                                             AFDCEL1-48  SSI1970  SSIMOS70  \\\n",
       "0     0000000000000000000000000000000000000000000000...     9993        93   \n",
       "1     9993999399939993999399939993999399939993999399...     9993        93   \n",
       "2     0000000000000000000000000000000000000000000000...     9993        93   \n",
       "3     0000000000000000000000000000000000000000000000...     9993        93   \n",
       "4     0000000000000000000000000000000000000000000000...     9993        93   \n",
       "...                                                 ...      ...       ...   \n",
       "5338  0000000000000000000000000000000000000000000000...     9993        93   \n",
       "5339  9994999499949994999499949994999499949994999499...     9993        93   \n",
       "5340  0000000000000000000000000000000000000000000000...     9993        93   \n",
       "5341  0000000000000000000000000000000000000000000000...     9993        93   \n",
       "5342  9994012501250125016501450145014501450145014501...     9993        93   \n",
       "\n",
       "      SSIBASE  POVLEV  TREATLEV  \n",
       "0        9993     NaN       NaN  \n",
       "1        9993     NaN       NaN  \n",
       "2        9993     NaN       NaN  \n",
       "3        9993     NaN       NaN  \n",
       "4        9993     NaN       NaN  \n",
       "...       ...     ...       ...  \n",
       "5338     9993     4.0       0.0  \n",
       "5339     9993     4.0       0.0  \n",
       "5340     9993     4.0       0.0  \n",
       "5341     9993     4.0       0.0  \n",
       "5342     9993     2.0       3.0  \n",
       "\n",
       "[5343 rows x 118 columns]"
      ]
     },
     "execution_count": 3,
     "metadata": {},
     "output_type": "execute_result"
    }
   ],
   "source": [
    "gary_df"
   ]
  },
  {
   "cell_type": "markdown",
   "metadata": {},
   "source": [
    "## DATA CLEANING"
   ]
  },
  {
   "cell_type": "code",
   "execution_count": 4,
   "metadata": {},
   "outputs": [],
   "source": [
    "gary_df.dropna(inplace=True)"
   ]
  },
  {
   "cell_type": "code",
   "execution_count": 5,
   "metadata": {},
   "outputs": [],
   "source": [
    "gary_df = gary_df.astype(str)"
   ]
  },
  {
   "cell_type": "markdown",
   "metadata": {},
   "source": [
    "### WIDE DATA -> LONG DATA"
   ]
  },
  {
   "cell_type": "code",
   "execution_count": 6,
   "metadata": {},
   "outputs": [],
   "source": [
    "wide_cols = [col for col in gary_df.columns if '-' in col]\n",
    "stubs48_split = []\n",
    "stubs42_split = []\n",
    "stubs9_split = []\n",
    "stubs16_split = []\n",
    "stubs5_split = []\n",
    "id_cols = gary_df.drop(wide_cols, axis =1).columns\n",
    "cols_48 = [col for col in gary_df.columns if '-48' in col]\n",
    "cols_42 = [col for col in gary_df.columns if '-42' in col]\n",
    "cols_9 = [col for col in gary_df.columns if '-9' in col]\n",
    "cols_16 = [col for col in gary_df.columns if '-16' in col]\n",
    "cols_5 = [col for col in gary_df.columns if '-5' in col]"
   ]
  },
  {
   "cell_type": "code",
   "execution_count": 13,
   "metadata": {},
   "outputs": [
    {
     "name": "stdout",
     "output_type": "stream",
     "text": [
      "17      940202020202020202\n",
      "18       10100019494959494\n",
      "19           2000202020294\n",
      "20       20002020202020202\n",
      "21       20002020294949494\n",
      "               ...        \n",
      "5338     20202000202029494\n",
      "5339    939393939393939393\n",
      "5340    939393939393939393\n",
      "5341    939393939393939393\n",
      "5342    939393939393939393\n",
      "Name: EMPSTAT1-9, Length: 5326, dtype: object\n",
      "17      949494949494949494\n",
      "18       10194019494959494\n",
      "19      949494949494949494\n",
      "20      949494949494949494\n",
      "21      949494949494949494\n",
      "               ...        \n",
      "5338    949494949494949494\n",
      "5339    939393939393939393\n",
      "5340    939393939393939393\n",
      "5341    939393939393939393\n",
      "5342    939393939393939393\n",
      "Name: TYPWRKR1-9, Length: 5326, dtype: object\n",
      "17      940106060404010501\n",
      "18      949494949494959494\n",
      "19      949406940401059494\n",
      "20        9406019404050594\n",
      "21        9406069494949494\n",
      "               ...        \n",
      "5338     10202940202039494\n",
      "5339    939393939393939393\n",
      "5340    939393939393939393\n",
      "5341    939393939393939393\n",
      "5342    939393939393939393\n",
      "Name: WYNOWRK1-9, Length: 5326, dtype: object\n",
      "17      994000000000000000000000000\n",
      "18      033040000048994994995994994\n",
      "19      000000000000000000000000994\n",
      "20      000000000000000000000000000\n",
      "21      000000000000000994994994994\n",
      "                   ...             \n",
      "5338    000000000000000000000994994\n",
      "5339    993993993993993993993993993\n",
      "5340    993993993993993993993993993\n",
      "5341    993993993993993993993993993\n",
      "5342    993993993993993993993993993\n",
      "Name: HRSWEEK1-9, Length: 5326, dtype: object\n",
      "17      994000000000000000000000000\n",
      "18      001000000000994994995994994\n",
      "19      000000000000000000000000994\n",
      "20      000000000000000000000000000\n",
      "21      000000000000000994994994994\n",
      "                   ...             \n",
      "5338    000000000000000000000994994\n",
      "5339    993993993993993993993993993\n",
      "5340    993993993993993993993993993\n",
      "5341    993993993993993993993993993\n",
      "5342    993993993993993993993993993\n",
      "Name: OTHRSWK1-9, Length: 5326, dtype: object\n",
      "17      997997997000000000000000000\n",
      "18      997997997048994994995994994\n",
      "19      997997997000000000000000994\n",
      "20      997997997000000000000000000\n",
      "21      997997997000000994994994994\n",
      "                   ...             \n",
      "5338    997997997000000000000994994\n",
      "5339    993993993993993993993993993\n",
      "5340    993993993993993993993993993\n",
      "5341    993993993993993993993993993\n",
      "5342    993993993993993993993993993\n",
      "Name: HRSREG1-9, Length: 5326, dtype: object\n",
      "17      997997997000000000000000000\n",
      "18      997997997000994994995994994\n",
      "19      997997997000000000000000994\n",
      "20      997997997000000000000000000\n",
      "21      997997997000000994994994994\n",
      "                   ...             \n",
      "5338    997997997000000000000994994\n",
      "5339    993993993993993993993993993\n",
      "5340    993993993993993993993993993\n",
      "5341    993993993993993993993993993\n",
      "5342    993993993993993993993993993\n",
      "Name: OTHREG1-9, Length: 5326, dtype: object\n",
      "17      979797979494949494\n",
      "18      979797979494959494\n",
      "19      979797979494949494\n",
      "20      979797970294949494\n",
      "21      979797979494949494\n",
      "               ...        \n",
      "5338    979797979494949494\n",
      "5339    939393939393939393\n",
      "5340    939393939393939393\n",
      "5341    939393939393939393\n",
      "5342    939393939393939393\n",
      "Name: DSABLED1-9, Length: 5326, dtype: object\n",
      "17      979797979494949494\n",
      "18      979797979494959494\n",
      "19      979797979494949494\n",
      "20      979797970494949494\n",
      "21      979797979494949494\n",
      "               ...        \n",
      "5338    979797979494949494\n",
      "5339    939393939393939393\n",
      "5340    939393939393939393\n",
      "5341    939393939393939393\n",
      "5342    939393939393939393\n",
      "Name: DISLMIT1-9, Length: 5326, dtype: object\n",
      "17      18\n",
      "18      17\n",
      "19      18\n",
      "20      18\n",
      "21      18\n",
      "        ..\n",
      "5338    18\n",
      "5339    18\n",
      "5340    18\n",
      "5341    18\n",
      "5342    18\n",
      "Name: TYPWRKR1-9, Length: 5326, dtype: int64\n"
     ]
    }
   ],
   "source": [
    "for column in wide_cols:\n",
    "    if '-9' in column:\n",
    "        stubs9_split.append(column.split('-')[0])\n",
    "        print(gary_df[column])\n",
    "print(gary_df['TYPWRKR1-9'].apply(len))"
   ]
  },
  {
   "cell_type": "code",
   "execution_count": 7,
   "metadata": {},
   "outputs": [
    {
     "ename": "TypeError",
     "evalue": "only size-1 arrays can be converted to Python scalars",
     "output_type": "error",
     "traceback": [
      "\u001b[0;31m---------------------------------------------------------------------------\u001b[0m",
      "\u001b[0;31mTypeError\u001b[0m                                 Traceback (most recent call last)",
      "\u001b[0;32m<ipython-input-7-1bae91ede713>\u001b[0m in \u001b[0;36m<module>\u001b[0;34m\u001b[0m\n\u001b[1;32m     16\u001b[0m     \u001b[0;32mif\u001b[0m \u001b[0;34m'-9'\u001b[0m \u001b[0;32min\u001b[0m \u001b[0mcolumn\u001b[0m\u001b[0;34m:\u001b[0m\u001b[0;34m\u001b[0m\u001b[0;34m\u001b[0m\u001b[0m\n\u001b[1;32m     17\u001b[0m         \u001b[0mstubs9_split\u001b[0m\u001b[0;34m.\u001b[0m\u001b[0mappend\u001b[0m\u001b[0;34m(\u001b[0m\u001b[0mcolumn\u001b[0m\u001b[0;34m.\u001b[0m\u001b[0msplit\u001b[0m\u001b[0;34m(\u001b[0m\u001b[0;34m'-'\u001b[0m\u001b[0;34m)\u001b[0m\u001b[0;34m[\u001b[0m\u001b[0;36m0\u001b[0m\u001b[0;34m]\u001b[0m\u001b[0;34m)\u001b[0m\u001b[0;34m\u001b[0m\u001b[0;34m\u001b[0m\u001b[0m\n\u001b[0;32m---> 18\u001b[0;31m         \u001b[0mleng\u001b[0m \u001b[0;34m=\u001b[0m \u001b[0mint\u001b[0m\u001b[0;34m(\u001b[0m\u001b[0mgary_df\u001b[0m\u001b[0;34m[\u001b[0m\u001b[0mcolumn\u001b[0m\u001b[0;34m]\u001b[0m\u001b[0;34m.\u001b[0m\u001b[0mstr\u001b[0m\u001b[0;34m.\u001b[0m\u001b[0mlen\u001b[0m\u001b[0;34m(\u001b[0m\u001b[0;34m)\u001b[0m\u001b[0;34m.\u001b[0m\u001b[0munique\u001b[0m\u001b[0;34m(\u001b[0m\u001b[0;34m)\u001b[0m \u001b[0;34m/\u001b[0m\u001b[0;36m9\u001b[0m\u001b[0;34m)\u001b[0m\u001b[0;34m\u001b[0m\u001b[0;34m\u001b[0m\u001b[0m\n\u001b[0m\u001b[1;32m     19\u001b[0m         \u001b[0mgary_df\u001b[0m\u001b[0;34m[\u001b[0m\u001b[0mcolumn\u001b[0m\u001b[0;34m]\u001b[0m \u001b[0;34m=\u001b[0m \u001b[0mgary_df\u001b[0m\u001b[0;34m[\u001b[0m\u001b[0mcolumn\u001b[0m\u001b[0;34m]\u001b[0m\u001b[0;34m.\u001b[0m\u001b[0mapply\u001b[0m\u001b[0;34m(\u001b[0m\u001b[0mchunkstring\u001b[0m\u001b[0;34m,\u001b[0m \u001b[0margs\u001b[0m\u001b[0;34m=\u001b[0m\u001b[0;34m[\u001b[0m\u001b[0mleng\u001b[0m\u001b[0;34m]\u001b[0m\u001b[0;34m)\u001b[0m\u001b[0;34m\u001b[0m\u001b[0;34m\u001b[0m\u001b[0m\n\u001b[1;32m     20\u001b[0m         \u001b[0;32mfor\u001b[0m \u001b[0mi\u001b[0m \u001b[0;32min\u001b[0m \u001b[0mrange\u001b[0m\u001b[0;34m(\u001b[0m\u001b[0;36m9\u001b[0m\u001b[0;34m)\u001b[0m\u001b[0;34m:\u001b[0m\u001b[0;34m\u001b[0m\u001b[0;34m\u001b[0m\u001b[0m\n",
      "\u001b[0;31mTypeError\u001b[0m: only size-1 arrays can be converted to Python scalars"
     ]
    }
   ],
   "source": [
    "def chunkstring(string, length):\n",
    "    return [string[0+i:length+i] for i in range(0, len(string), length)]\n",
    "for column in wide_cols:\n",
    "    if '-48' in column:\n",
    "        stubs48_split.append(column.split('-')[0])\n",
    "        leng = int(gary_df[column].str.len().unique() /48)\n",
    "        gary_df[column] = gary_df[column].apply(chunkstring, args=[leng])\n",
    "        for i in range(48):\n",
    "            gary_df[column[:-4] + str(i+1)] = gary_df[column].apply(lambda x: x[i])\n",
    "    if '-42' in column:\n",
    "        stubs42_split.append(column.split('-')[0])\n",
    "        leng = int(gary_df[column].str.len().unique() /42)\n",
    "        gary_df[column] = gary_df[column].apply(chunkstring, args=[leng])\n",
    "        for i in range(42):\n",
    "            gary_df[column[:-4] + str(i+1)] = gary_df[column].apply(lambda x: x[i])\n",
    "    if '-9' in column:\n",
    "        stubs9_split.append(column.split('-')[0])\n",
    "        leng = int(gary_df[column].str.len().unique() /9)\n",
    "        gary_df[column] = gary_df[column].apply(chunkstring, args=[leng])\n",
    "        for i in range(9):\n",
    "            gary_df[column[:-3] + str(i+1)] = gary_df[column].apply(lambda x: x[i])  \n",
    "    if '-16' in column:\n",
    "        stubs16_split.append(column.split('-')[0])\n",
    "        leng = int(gary_df[column].str.len().unique() /16)\n",
    "        gary_df[column] = gary_df[column].apply(chunkstring, args=[leng])\n",
    "        for i in range(16):\n",
    "            gary_df[column[:-3] + str(i+1)] = gary_df[column].apply(lambda x: x[i])\n",
    "    if '-73' in column:\n",
    "        stubs5_split.append(column.split('-')[0])\n",
    "        leng = int(gary_df[column].str.len().unique() /5)\n",
    "        gary_df[column] = gary_df[column].apply(chunkstring, args=[leng])\n",
    "        for i in range(5):\n",
    "            gary_df[column[:-3] + str(i+1)] = gary_df[column].apply(lambda x: x[i])"
   ]
  },
  {
   "cell_type": "code",
   "execution_count": null,
   "metadata": {},
   "outputs": [],
   "source": [
    "gary_df.drop(wide_cols,axis=1, inplace=True)"
   ]
  },
  {
   "cell_type": "code",
   "execution_count": null,
   "metadata": {
    "scrolled": true
   },
   "outputs": [],
   "source": [
    "stubs48 = [x[:-1] for x in stubs48_split]\n",
    "stubs42 = [x[:-1] for x in stubs42_split]\n",
    "stubs9 = [x[:-1] for x in stubs9_split]\n",
    "stubs16 = [x[:-1] for x in stubs16_split]\n",
    "stubs5 = [x[:-1] for x in stubs5_split]\n",
    "stubs = [stubs48, stubs42, stubs9, stubs16, stubs5]\n",
    "id_list = list(id_cols)\n"
   ]
  },
  {
   "cell_type": "code",
   "execution_count": null,
   "metadata": {},
   "outputs": [],
   "source": [
    "def stubs_sorter(df, stubs_list):\n",
    "    cols_list = []\n",
    "    for stub in stubs_list:\n",
    "        lengths = set([len(stub)+1, len(stub)+2])\n",
    "        cols_list += [col for col in df.columns if stub in col and len(col) in lengths]\n",
    "    if any('48' in col for col in cols_list):\n",
    "        special_case = ['EMPSTAT1', 'TYPWRKR7', 'TYPWRKR3', 'TYPWRKR8', 'EMPSTAT7', 'EMPSTAT9',\n",
    "           'TYPWRKR1', 'EMPSTAT8', 'TYPWRKR6', 'TYPWRKR9', 'EMPSTAT2', 'EMPSTAT4',\n",
    "           'TYPWRKR2', 'EMPSTAT3', 'TYPWRKR5', 'EMPSTAT6', 'EMPSTAT5', 'TYPWRKR4']\n",
    "        for col in special_case:\n",
    "            cols_list.remove(col)\n",
    "    #cols_list = [col for col in gary_df.columns if stubs48[0] in col]\n",
    "    cols_list.append('PERNUM')\n",
    "    #gary_df[cols_list]\n",
    "    #gary_df['id'] = gary_df.index\n",
    "    df_long = pd.wide_to_long(gary_df[cols_list], stubnames=stubs_list, i ='PERNUM', j=\"period\")\n",
    "    return df_long\n"
   ]
  },
  {
   "cell_type": "code",
   "execution_count": null,
   "metadata": {},
   "outputs": [],
   "source": [
    "long48 = stubs_sorter(gary_df, stubs48)\n",
    "long42 = stubs_sorter(gary_df, stubs42)\n",
    "long16 = stubs_sorter(gary_df, stubs16)\n",
    "long9 = stubs_sorter(gary_df, stubs9)\n",
    "long5 = stubs_sorter(gary_df, stubs5)\n",
    "longs = [long48, long42, long16, long9, long5]\n",
    "long5"
   ]
  },
  {
   "cell_type": "code",
   "execution_count": null,
   "metadata": {},
   "outputs": [],
   "source": [
    "for df in longs:\n",
    "    df.reset_index(inplace=True)\n",
    "    df.drop_duplicates(inplace=True)"
   ]
  },
  {
   "cell_type": "code",
   "execution_count": null,
   "metadata": {},
   "outputs": [],
   "source": [
    "map9 = {1 : 1, 2 : 14, 3 : 18, 4 : 22, 5 : 26, 6 : 31, 7 : 35, 8 : 38, 9 : 43}\n",
    "map5 = {91 : 1, 92 : 13, 93 : 25, 94 : 37, 95 : 48}\n",
    "long16['period'] = long16['period']*4\n",
    "long9['period'] = long9['period'].map(map9)\n",
    "long5['period'] = long5['period'].map(map5)\n"
   ]
  },
  {
   "cell_type": "code",
   "execution_count": null,
   "metadata": {},
   "outputs": [],
   "source": [
    "long9.sort_values(by = ['PERNUM', 'period'])"
   ]
  },
  {
   "cell_type": "code",
   "execution_count": null,
   "metadata": {},
   "outputs": [],
   "source": [
    "long5.sort_values(by = ['PERNUM', 'period'])"
   ]
  },
  {
   "cell_type": "code",
   "execution_count": null,
   "metadata": {},
   "outputs": [],
   "source": [
    "gary_final = pd.merge(long5, long9, on=['PERNUM', 'period'])\n",
    "gary_final.head(500)"
   ]
  },
  {
   "cell_type": "code",
   "execution_count": null,
   "metadata": {},
   "outputs": [],
   "source": [
    "gary_final.loc[gary_final['PERNUM'] =='500001']"
   ]
  },
  {
   "cell_type": "markdown",
   "metadata": {},
   "source": [
    "### HANDLING NULLS"
   ]
  },
  {
   "cell_type": "markdown",
   "metadata": {},
   "source": [
    "dropping families with no people and people with no families (this was due to a record-keeping error on the part of the experimenters. Families starting with number 4 are supposed to be in the Sacramento file, not Gary)."
   ]
  },
  {
   "cell_type": "code",
   "execution_count": null,
   "metadata": {},
   "outputs": [],
   "source": []
  },
  {
   "cell_type": "markdown",
   "metadata": {},
   "source": [
    "Converting some of the more-common missing data codes"
   ]
  },
  {
   "cell_type": "code",
   "execution_count": null,
   "metadata": {},
   "outputs": [],
   "source": [
    "gary_df.replace(['9997', '9999','9993','9994', '97', '93'], np.NaN, inplace=True)"
   ]
  },
  {
   "cell_type": "markdown",
   "metadata": {},
   "source": [
    "dropping the columns with > 75% of their entries being left blank"
   ]
  },
  {
   "cell_type": "code",
   "execution_count": null,
   "metadata": {},
   "outputs": [],
   "source": [
    "def percent_miss(df):\n",
    "    # returns the percent of entries that are None in each column.\n",
    "   return df.isnull().sum()/df.isnull().count()\n",
    "bad_cols = gary_df.loc[:,(percent_miss(gary_df) > 0.75)].columns\n",
    "gary_df.drop(bad_cols, axis=1, inplace= True)"
   ]
  },
  {
   "cell_type": "markdown",
   "metadata": {},
   "source": [
    "ATTDATE stands for attrition date, meaning what date the family left the experiment before it ended. These families left because they either moved away, stopped responding to experimenters, or the active filing member passed. They're being dropped here as we are interested in effects of welfare over time and these cutoff early."
   ]
  },
  {
   "cell_type": "code",
   "execution_count": null,
   "metadata": {},
   "outputs": [],
   "source": [
    "gary_df = gary_df.loc[gary_df['ATTDATE'] == '00000',:]\n",
    "gary_df.drop(['ATTDATE', 'FAMNUM'], axis=1, inplace=True)"
   ]
  },
  {
   "cell_type": "markdown",
   "metadata": {},
   "source": [
    "## Encoding"
   ]
  },
  {
   "cell_type": "markdown",
   "metadata": {},
   "source": [
    "Many of the comments within this section are ideas for further analysis, or methods of data cleaning attempted that either failed or were too large of a time sink to complete."
   ]
  },
  {
   "cell_type": "code",
   "execution_count": null,
   "metadata": {},
   "outputs": [],
   "source": [
    "#gary_df = gary_df.loc[gary_df['TREATLEV'] != '0']\n",
    "#gary_control_df = gary_df.loc[gary_df['TREATLEV'] == '0']"
   ]
  },
  {
   "cell_type": "code",
   "execution_count": null,
   "metadata": {},
   "outputs": [],
   "source": [
    "gary_df.set_index('PERNUM', inplace=True)\n",
    "gary_simp_df = pd.get_dummies(gary_df['TREATLEV'], drop_first=True)\n",
    "#gary_df.drop(['TREATLEV'], axis=1, inplace=True)\n",
    "col_dict = {1:'TREATLEV_1', 2: 'TREATLEV_2', 3:'TREATLEV_3', 4:'TREATLEV_4'}\n",
    "gary_simp_df.rename(columns = col_dict, inplace=True)"
   ]
  },
  {
   "cell_type": "code",
   "execution_count": null,
   "metadata": {},
   "outputs": [],
   "source": [
    "gary_simp_df = pd.concat([gary_simp_df, pd.get_dummies(gary_df['POVLEV'], drop_first=True)], axis=1)\n",
    "#gary_df.drop(['POVLEV'], axis=1, inplace=True)\n",
    "col_dict = {2:'POV_LEV_2', 3: 'POV_LEV_3', 4:'POV_LEV_4', 5:'POV_LEV_5'}\n",
    "gary_simp_df.rename(columns = col_dict, inplace=True)"
   ]
  },
  {
   "cell_type": "markdown",
   "metadata": {},
   "source": [
    "This section of comments was my attempt to take the time-data and parse it out to hopefully generate new rows of data from them. Given more time, I would greatly expand this section, as it has the most potential and would give me the tools to make good features."
   ]
  },
  {
   "cell_type": "code",
   "execution_count": null,
   "metadata": {},
   "outputs": [],
   "source": [
    "'''def chunkstring(string, length):\n",
    "    return [string[0+i:length+i] for i in range(0, len(string), length)]\n",
    "for column in gary_df.columns:\n",
    "    if '-48' in column:\n",
    "        leng = int(gary_df[column].str.len().unique() /48)\n",
    "        gary_df[column] = gary_df[column].apply(chunkstring, args=[leng])\n",
    "    if '-43' in column:\n",
    "        leng = int(gary_df[column].str.len().unique() /43)\n",
    "        gary_df[column] = gary_df[column].apply(chunkstring, args=[leng])\n",
    "    if '-42' in column:\n",
    "        leng = int(gary_df[column].str.len().unique() /42)\n",
    "        gary_df[column] = gary_df[column].apply(chunkstring, args=[leng])\n",
    "    if '-9' in column:\n",
    "        leng = int(gary_df[column].str.len().unique() /9)\n",
    "        gary_df[column] = gary_df[column].apply(chunkstring, args=[leng])\n",
    " '''       "
   ]
  },
  {
   "cell_type": "code",
   "execution_count": null,
   "metadata": {},
   "outputs": [],
   "source": [
    "'''\n",
    "for column in gary_df.columns:\n",
    "    if '-48' in column:\n",
    "        leng = int(gary_df[column].str.len().unique() /48)\n",
    "        basename = column\n",
    "        for i in range(48):\n",
    "            gary_df[basename+'-Month'+str(i)] = gary_df[column][i:i+leng]\n",
    "gary_df.head()\n",
    "'''"
   ]
  },
  {
   "cell_type": "markdown",
   "metadata": {},
   "source": [
    "Renaming the column for the sake of ease in coding."
   ]
  },
  {
   "cell_type": "code",
   "execution_count": null,
   "metadata": {},
   "outputs": [],
   "source": [
    "#gary_df.set_index('PERNUM', inplace=True)\n",
    "#periodic_columns =['SSI1-48', 'TTI1-48', 'SS1-48', 'VA1-48', 'MISINC1-48',\n",
    "#                   'OTHINC1-48', 'JOBINC1-48', 'DAYINC1-48', 'OJINC1-48',\n",
    "#                  'UEMBEN1-48', 'STRKWC1-48']\n",
    "gary_df.rename(columns= {'EMPSTAT1-9': 'EMPSTAT'}, inplace = True)\n",
    "gary_df.info"
   ]
  },
  {
   "cell_type": "markdown",
   "metadata": {},
   "source": [
    "Ruling out persons for which employment status data was never collected. "
   ]
  },
  {
   "cell_type": "code",
   "execution_count": null,
   "metadata": {},
   "outputs": [],
   "source": [
    "gary_simp_df['EMPSTAT'] = gary_df.loc[gary_df.EMPSTAT.str.contains('00|01|02', regex=True),'EMPSTAT']"
   ]
  },
  {
   "cell_type": "code",
   "execution_count": null,
   "metadata": {},
   "outputs": [],
   "source": [
    "gary_simp_df.dropna(axis=0, inplace=True)"
   ]
  },
  {
   "cell_type": "markdown",
   "metadata": {},
   "source": [
    "Unemployed + Actively seeking work, Employed -> in the labor force -> 1   \n",
    "Unemployed + not actively seeking work -> not in labor force -> 0"
   ]
  },
  {
   "cell_type": "code",
   "execution_count": null,
   "metadata": {},
   "outputs": [],
   "source": [
    "gary_simp_df.loc[(gary_simp_df.EMPSTAT.str.contains('(01)', regex=True)),'EMPSTAT']= '1'\n",
    "gary_simp_df.loc[(gary_simp_df.EMPSTAT.str.contains('(00)', regex=True)),'EMPSTAT']= '1'\n",
    "#gary_simp_df.loc[(gary_simp_df.EMPSTAT.str.contains('(00)(02)', regex=True)),'EMPSTAT']= 0\n"
   ]
  },
  {
   "cell_type": "code",
   "execution_count": null,
   "metadata": {},
   "outputs": [],
   "source": [
    "gary_simp_df.loc[gary_simp_df['EMPSTAT'] != '1', 'EMPSTAT'] ='0'"
   ]
  },
  {
   "cell_type": "code",
   "execution_count": null,
   "metadata": {},
   "outputs": [],
   "source": [
    "gary_simp_df"
   ]
  },
  {
   "cell_type": "markdown",
   "metadata": {},
   "source": [
    "## MODELLING"
   ]
  },
  {
   "cell_type": "code",
   "execution_count": null,
   "metadata": {},
   "outputs": [],
   "source": [
    "X= gary_simp_df.drop('EMPSTAT', axis=1)\n",
    "Y= gary_simp_df['EMPSTAT']\n",
    "X_train, X_test, y_train, y_test = train_test_split(X, Y, test_size = 0.2, random_state=2, stratify = Y)\n",
    "print(y_train, y_test, X_train, X_test)"
   ]
  },
  {
   "cell_type": "markdown",
   "metadata": {},
   "source": [
    "## Dummy-test"
   ]
  },
  {
   "cell_type": "code",
   "execution_count": null,
   "metadata": {},
   "outputs": [],
   "source": [
    "dummy = DummyClassifier(strategy = 'most_frequent')\n",
    "dummy.fit(X_train, y_train)\n",
    "dummy.score(X_test, y_test)"
   ]
  },
  {
   "cell_type": "code",
   "execution_count": null,
   "metadata": {},
   "outputs": [],
   "source": [
    "dummy_report = classification_report(y_test, dummy.predict(X_test), target_names = ['Not in Labor', 'In Labor']\n",
    "print(dummy_report)"
   ]
  },
  {
   "cell_type": "code",
   "execution_count": null,
   "metadata": {},
   "outputs": [],
   "source": [
    "lr = LogisticRegression()\n",
    "grid = GridSearchCV(estimator=lr,\\\n",
    "                   param_grid = { \\\n",
    "                                'C' : np.arange(0.05, 1.0, .05),\\\n",
    "                                'penalty' : ['l2'],\\\n",
    "                                'max_iter' : np.arange(500, 5000, 500)},\n",
    "                   verbose = 2)\n",
    "grid.fit(X_train, y_train)"
   ]
  },
  {
   "cell_type": "code",
   "execution_count": null,
   "metadata": {},
   "outputs": [],
   "source": [
    "print(classification_report(y_test, grid.predict(X_test), target_names=['Not in Labor', 'In Labor']))\n",
    "print(confusion_matrix(y_test, grid.predict(X_test)))"
   ]
  },
  {
   "cell_type": "markdown",
   "metadata": {},
   "source": [
    "**IMPORTANT NOTE:** Logistic Regression does *no* better than guessing the most frequent."
   ]
  },
  {
   "cell_type": "markdown",
   "metadata": {},
   "source": [
    "## RANDOM FOREST"
   ]
  },
  {
   "cell_type": "code",
   "execution_count": null,
   "metadata": {},
   "outputs": [],
   "source": [
    "rfc = ensemble.RandomForestClassifier()\n",
    "grid = GridSearchCV(estimator = rfc,\n",
    "                         param_grid={\\\n",
    "                                    'max_depth' : [1, 2, 3],\\\n",
    "                                    'criterion':['gini', 'entropy'],\\\n",
    "                                    'min_samples_split' : np.arange(0.05,1.0, 0.05),\\\n",
    "                                             },\n",
    "                   verbose=2)\n",
    "grid.fit(X_train, y_train)"
   ]
  },
  {
   "cell_type": "code",
   "execution_count": null,
   "metadata": {},
   "outputs": [],
   "source": [
    "print(classification_report(y_test, grid.predict(X_test), target_names=['Not in Labor', 'In Labor']))"
   ]
  },
  {
   "cell_type": "markdown",
   "metadata": {},
   "source": [
    "**IMPORTANT NOTE** Random Forest doest *no* better than guessing the most frequent"
   ]
  },
  {
   "cell_type": "code",
   "execution_count": null,
   "metadata": {},
   "outputs": [],
   "source": [
    "clf = ensemble.GradientBoostingClassifier()\n",
    "rand = RandomizedSearchCV(estimator=clf,\\\n",
    "                   param_distributions = { \\\n",
    "                                'n_estimators' : np.arange(500, 1000, 250),\\\n",
    "                                'max_depth' : np.arange(1,3),\\\n",
    "                                'learning_rate' : np.arange(0.1, .90, 0.1)})\n",
    "rand.fit(X_train, y_train)\n",
    "print(classification_report(y_test, rand.predict(X_test), target_names=['Not in Labor', 'In Labor']))"
   ]
  },
  {
   "cell_type": "markdown",
   "metadata": {},
   "source": [
    "Gradient Boosting does tremendously better at predicting not in the labor force, and thus is the best model of the bunch. "
   ]
  },
  {
   "cell_type": "markdown",
   "metadata": {},
   "source": [
    "# FURTHER CONSIDERATIONS"
   ]
  },
  {
   "cell_type": "markdown",
   "metadata": {},
   "source": [
    "In addition to the comments throughout this notebook better analysis would come from:  \n",
    "1. Parsing out the 1-48, 1-43, 1-42, 1-9 columns and making them into rows by adding a column for month. The index could then be Person, Month for the data frame. \n",
    "2. Using ffill to patch up a lot of the NA's that are either dropped or ignored in this notebook.\n",
    "3. Running the models with all the features (but not using GridSearch/RandomizedSearch), then doing some basic feature reduction (PCA, etc.)\n",
    "4. Reconsidering the structure of the categorical data TREATLEV, POVLEV."
   ]
  },
  {
   "cell_type": "code",
   "execution_count": null,
   "metadata": {},
   "outputs": [],
   "source": [
    "#gary_df['NOTINFR'] = gary_df['EMPINT'].str.contains('02')\n",
    "#gary_df['NOTINFR'] = gary_df['NOTINFR'].astype(int)\n",
    "#gary_df['EMPGAIN'] = gary_df['EMPINT'].str.contains('(00)(01)', regex=True)"
   ]
  },
  {
   "cell_type": "code",
   "execution_count": null,
   "metadata": {},
   "outputs": [],
   "source": [
    "#gary_df['EMPLOSS'] = gary_df['EMPINT'].str.contains('(01)(00)', regex=True)"
   ]
  },
  {
   "cell_type": "code",
   "execution_count": null,
   "metadata": {},
   "outputs": [],
   "source": [
    "#gary_df['EMPGAIN'] = gary_df.EMPGAIN.astype(int)"
   ]
  },
  {
   "cell_type": "code",
   "execution_count": null,
   "metadata": {},
   "outputs": [],
   "source": [
    "#gary_df['EMPLOSS'] = gary_df.EMPLOSS.astype(int)"
   ]
  },
  {
   "cell_type": "code",
   "execution_count": null,
   "metadata": {},
   "outputs": [],
   "source": [
    "#columns_for_later = ['EMPLOSS', 'EMPGAIN']\n",
    "#gary_df.drop(columns_for_later, axis=1, inplace=True)"
   ]
  },
  {
   "cell_type": "code",
   "execution_count": null,
   "metadata": {},
   "outputs": [],
   "source": [
    "#gary_df['EMP'] = gary_df['EMPINT'].str.contains('01')\n",
    "#gary_df['EMP'] = gary_df.EMP.astype(int)"
   ]
  }
 ],
 "metadata": {
  "kernelspec": {
   "display_name": "Python 3",
   "language": "python",
   "name": "python3"
  },
  "language_info": {
   "codemirror_mode": {
    "name": "ipython",
    "version": 3
   },
   "file_extension": ".py",
   "mimetype": "text/x-python",
   "name": "python",
   "nbconvert_exporter": "python",
   "pygments_lexer": "ipython3",
   "version": "3.8.5"
  }
 },
 "nbformat": 4,
 "nbformat_minor": 4
}
